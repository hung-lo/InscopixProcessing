{
 "cells": [
  {
   "cell_type": "markdown",
   "metadata": {},
   "source": [
    "# Inscopix python API - imaging processing\n",
    "### This notebook contains the procedure from preprocessing to ROI detection by CNMFe"
   ]
  },
  {
   "cell_type": "markdown",
   "metadata": {},
   "source": [
    "### Import packages \n",
    "the inscopix python API is located in the same folder of data processing software. The isx.cnmfe is used for ROI detection."
   ]
  },
  {
   "cell_type": "markdown",
   "metadata": {},
   "source": [
    "### Remember to set up a ipcluster with following script under the isxenv\n",
    "ipcluster start -n 2"
   ]
  },
  {
   "cell_type": "code",
   "execution_count": 1,
   "metadata": {},
   "outputs": [
    {
     "name": "stdout",
     "output_type": "stream",
     "text": [
      "Start time: 2021-08-11 14:52:27.901325\n"
     ]
    }
   ],
   "source": [
    "import sys\n",
    "sys.path.append(\"/Program Files/Inscopix/Data Processing/\")\n",
    "import os\n",
    "import glob\n",
    "import isx\n",
    "# import isx.cnmfe\n",
    "\n",
    "from datetime import datetime\n",
    "start_time = datetime.now()\n",
    "print('Start time: {}'.format(start_time))"
   ]
  },
  {
   "cell_type": "markdown",
   "metadata": {},
   "source": [
    "### File path and recording names\n",
    "Deinfe path and the recording names of our recordings.<br>"
   ]
  },
  {
   "cell_type": "code",
   "execution_count": 3,
   "metadata": {},
   "outputs": [
    {
     "name": "stdout",
     "output_type": "stream",
     "text": [
      "F:/inscopix_nVista3/BES0417210105\n",
      "{'day_0': ['2021-01-05-15-44-20_video']}\n"
     ]
    }
   ],
   "source": [
    "path_to_file = 'F:/inscopix_nVista3/'\n",
    "# path_to_file = 'E:/Inscopix_2021_nVista3/'\n",
    "data_dir = os.path.join(path_to_file, 'BES0417210105') # Only change here\n",
    "file_names_in_path = []\n",
    "file_names_in_path = sorted(set(os.listdir(data_dir)))\n",
    "\n",
    "# rec_name = '2020-09-02-15-58-16_video'\n",
    "rec_name = file_names_in_path[1].split('.')[0]#.split('-')[0]\n",
    "# rec_name = file_names_in_path[8][:-8] # This should be the first/sec raw file in the list with the time stamp\n",
    "series_rec_names = {\n",
    "        'day_0':\n",
    "        [\n",
    "            rec_name,\n",
    "        ]\n",
    "}\n",
    "print(data_dir)\n",
    "print(series_rec_names)"
   ]
  },
  {
   "cell_type": "markdown",
   "metadata": {},
   "source": [
    "### Imaging Preprocessing, Sptail filter, Motion correction, dF/F, PCA-ICA, Event detection\n",
    "Note the following cell will perfrom the whole procedure from preprocessing to event detection, it's written in a huge for loop, so keep the identation before all codes.<br>\n",
    "There will be outputs of file names for each completed steps, so you can check the working progress."
   ]
  },
  {
   "cell_type": "code",
   "execution_count": 4,
   "metadata": {
    "scrolled": false
   },
   "outputs": [
    {
     "name": "stdout",
     "output_type": "stream",
     "text": [
      "['F:/inscopix_nVista3/BES0417210105\\\\2021-01-05-15-44-20_video.isxd']\n",
      "['F:/inscopix_nVista3/BES0417210105\\\\processed_crop_pnr10_mincorr08_v160_diam9\\\\2021-01-05-15-44-20_video-PP.isxd']\n",
      "['F:/inscopix_nVista3/BES0417210105\\\\processed_crop_pnr10_mincorr08_v160_diam9\\\\2021-01-05-15-44-20_video-PP-BP.isxd']\n",
      "['F:/inscopix_nVista3/BES0417210105\\\\processed_crop_pnr10_mincorr08_v160_diam9\\\\2021-01-05-15-44-20_video-PP-BP-MC.isxd']\n",
      "['F:/inscopix_nVista3/BES0417210105\\\\processed_crop_pnr10_mincorr08_v160_diam9\\\\2021-01-05-15-44-20_video-PP-BP-MC-DFF.isxd']\n"
     ]
    }
   ],
   "source": [
    "# Process each series all the way to event detection.\n",
    "# output_dir = os.path.join(data_dir, 'processed_crop_pnr20_mincorr08')\n",
    "# output_dir = os.path.join(data_dir, 'processed_crop_pnr10_mincorr08')\n",
    "output_dir = os.path.join(data_dir, 'processed_crop_pnr10_mincorr08_v160_diam9')\n",
    "\n",
    "# output_dir = os.path.join(data_dir, 'processed_crop_pnr15_mincorr08')\n",
    "\n",
    "os.makedirs(output_dir, exist_ok=True)\n",
    "\n",
    "proc_movie_files = []\n",
    "proc_cs_files = []\n",
    "for series_name, rec_names in series_rec_names.items():\n",
    "    \n",
    "    # Generate the recording file paths.\n",
    "#     rec_files = [os.path.join(data_dir, name + '.xml') for name in rec_names]\n",
    "    rec_files = [os.path.join(data_dir, name + '.isxd') for name in rec_names] ## This line is for new recording from nVista3\n",
    "    print(rec_files) # for progress feedback, not necessary\n",
    "    \n",
    "    # Preprocess the recordings by spatially downsampling by a factor of 4.\n",
    "    pp_files = isx.make_output_file_paths(rec_files, output_dir, 'PP')\n",
    "    # for DSC012972\n",
    "#     isx.preprocess(rec_files, pp_files, spatial_downsample_factor=1, crop_rect=[10,48,151,282])\n",
    "    # for DSC013919\n",
    "#     isx.preprocess(rec_files, pp_files, spatial_downsample_factor=1, crop_rect=[45,186,124,242])\n",
    "    # for BES0417\n",
    "    isx.preprocess(rec_files, pp_files, spatial_downsample_factor=1, crop_rect=[12,31,199,268])\n",
    "    # for BES0424\n",
    "#     isx.preprocess(rec_files, pp_files, spatial_downsample_factor=1, crop_rect=[15,14,171,236])\n",
    "    # for BES0427\n",
    "#     isx.preprocess(rec_files, pp_files, spatial_downsample_factor=1, crop_rect=[8,10,178,228])\n",
    "    # for BES0225\n",
    "#     isx.preprocess(rec_files, pp_files, spatial_downsample_factor=1, crop_rect=[10,18,199,273])\n",
    "\n",
    "\n",
    "    print(pp_files)\n",
    "    \n",
    "    # Perform spatial bandpass filtering with defaults.\n",
    "    bp_files = isx.make_output_file_paths(pp_files, output_dir, 'BP')\n",
    "    isx.spatial_filter(pp_files, bp_files, low_cutoff=0.005, high_cutoff=0.500)\n",
    "    print(bp_files)\n",
    "    \n",
    "    # Motion correct the movies using the mean projection as a reference frame.\n",
    "    mean_proj_file = os.path.join(output_dir, '{}-mean_image.isxd'.format(series_name))\n",
    "    isx.project_movie(bp_files, mean_proj_file, stat_type='mean')\n",
    "    mc_files = isx.make_output_file_paths(bp_files, output_dir, 'MC')\n",
    "    translation_files = isx.make_output_file_paths(mc_files, output_dir, 'translations', 'csv')\n",
    "    crop_rect_file = os.path.join(output_dir, '{}-crop_rect.csv'.format(series_name))\n",
    "    isx.motion_correct(\n",
    "         bp_files, mc_files, max_translation=20, reference_file_name=mean_proj_file,\n",
    "         low_bandpass_cutoff=None, high_bandpass_cutoff=None,\n",
    "         output_translation_files=translation_files, output_crop_rect_file=crop_rect_file)\n",
    "    print(mc_files)\n",
    "    \n",
    "    # Run DF/F on the motion corrected movies.\n",
    "    dff_files = isx.make_output_file_paths(mc_files, output_dir, 'DFF')\n",
    "    isx.dff(mc_files, dff_files, f0_type='mean')\n",
    "    print(dff_files)\n",
    "    \n",
    "#     # Run PCA-ICA on the DF/F movies.\n",
    "#     # Note that you will have to manually determine the number of cells, which we\n",
    "#     # determined here as 180.\n",
    "#     # Increase the block_size to increase speed at the expense of more memory usage.\n",
    "#     ic_files = isx.make_output_file_paths(dff_files, output_dir, 'PCA_ICA')\n",
    "#     num_cells = 180\n",
    "#     isx.pca_ica(dff_files, ic_files, num_cells, int(1.15 * num_cells), block_size=1000)\n",
    "#     #print(ic_files)\n",
    "\n",
    "#     # Run event detection on the PCA-ICA cell sets.\n",
    "#     event_files = isx.make_output_file_paths(ic_files, output_dir, 'ED')\n",
    "#     isx.event_detection(ic_files, event_files, threshold=5)\n",
    "#     print(event_files)\n",
    "\n",
    "#     # Automatically accept and reject cells based on their cell metrics\n",
    "#     # Only accept cells that have a nonzero event rate, an SNR greater\n",
    "#     # than 3, and only one connected component after thresholding\n",
    "#     auto_ar_filters = [('SNR', '>', 3), ('Event Rate', '>', 0), ('# Comps', '=', 1)]\n",
    "#     isx.auto_accept_reject(ic_files, event_files, filters=auto_ar_filters)\n",
    "\n",
    "#     # Store the processed movies and cell sets for longitudinal registration.\n",
    "#     proc_movie_files += dff_files\n",
    "#     proc_cs_files += ic_files\n",
    "#     print(proc_movie_files)"
   ]
  },
  {
   "cell_type": "code",
   "execution_count": 5,
   "metadata": {},
   "outputs": [
    {
     "name": "stdout",
     "output_type": "stream",
     "text": [
      "Duration from starting to MC: 0:07:26.659847\n"
     ]
    }
   ],
   "source": [
    "end_time = datetime.now()\n",
    "print('Duration from starting to MC: {}'.format(end_time - start_time))"
   ]
  },
  {
   "cell_type": "markdown",
   "metadata": {},
   "source": [
    "You should see some outputs from each step of precessing above here.\n"
   ]
  },
  {
   "cell_type": "markdown",
   "metadata": {},
   "source": [
    "If you have the MC.isxd file already, you can continue with following code."
   ]
  },
  {
   "cell_type": "markdown",
   "metadata": {},
   "source": [
    "'F:/inscopix_new/DSC7674200225\\\\processed\\\\recording_20200225_153103-PP-BP-MC.isxd'"
   ]
  },
  {
   "cell_type": "markdown",
   "metadata": {},
   "source": [
    "### ROI detection by CNMFe\n",
    "Now, we finished all preprocessing from the inscopix, and can move forward for Ca<sup>2</sup> ROI detection by CNMFe. First we would need to define our parameters."
   ]
  },
  {
   "cell_type": "code",
   "execution_count": 6,
   "metadata": {},
   "outputs": [],
   "source": [
    "# To start with CNMFe, we can try to set up a cluster on our computer so \n",
    "# it can process much faster. Go to anaconda promt, activate isxenv, then run\n",
    "# ipcluster start -n 16\n",
    "\n",
    "# Or less amount\n",
    "# Then use a different terminal to start the jupyter notebook.\n",
    "# Check again if it's possible to have this at the beginning of the notebook"
   ]
  },
  {
   "cell_type": "code",
   "execution_count": 7,
   "metadata": {
    "scrolled": true
   },
   "outputs": [],
   "source": [
    "# ## Test with different setting\n",
    "# # Define the motion correct filename for further process.\n",
    "mov_file = str(mc_files) # This should have the full path to the motion corrected file.\n",
    "\n",
    "# Create lists of CNMFe output files (cell traces and events)\n",
    "# cellset_list = []\n",
    "# cellset_list.append(os.path.join(output_dir, mov_file[-41:-7]+'-CNMFE_13'+ '.isxd'))\n",
    "# cellset_list.append(os.path.join(output_dir, mov_file[-41:-7]+'-CNMFE_17'+ '.isxd'))\n",
    "# cellset_list.append(os.path.join(output_dir, mov_file[-41:-7]+'-CNMFE_19'+ '.isxd'))\n",
    "# cellset_list.append(os.path.join(output_dir, mov_file[-41:-7]+'-CNMFE_21'+ '.isxd'))\n",
    "# for cellset in cellset_list:\n",
    "#     print(cellset)\n",
    "\n",
    "# events_list = []\n",
    "# events_list.append(os.path.join(output_dir, mov_file[-41:-7]+'-CNMFE_13-ED'+ '.isxd'))\n",
    "# events_list.append(os.path.join(output_dir, mov_file[-41:-7]+'-CNMFE_17-ED'+ '.isxd'))\n",
    "# events_list.append(os.path.join(output_dir, mov_file[-41:-7]+'-CNMFE_19-ED'+ '.isxd'))\n",
    "# events_list.append(os.path.join(output_dir, mov_file[-41:-7]+'-CNMFE_21-ED'+ '.isxd'))\n",
    "# for events in events_list:\n",
    "#     print(events)"
   ]
  },
  {
   "cell_type": "code",
   "execution_count": 8,
   "metadata": {},
   "outputs": [
    {
     "data": {
      "text/plain": [
       "'F:/inscopix_nVista3/BES0417210105\\\\processed_crop_pnr10_mincorr08_v160_diam9\\\\2021-01-05-15-44-20_video-PP-BP-MC-CNMFE_new_event.isxd'"
      ]
     },
     "execution_count": 8,
     "metadata": {},
     "output_type": "execute_result"
    }
   ],
   "source": [
    "cell_set = os.path.join(output_dir, mov_file[-41:-7]+'-CNMFE_new.isxd')\n",
    "cell_set\n",
    "\n",
    "cell_set_denoised = os.path.join(output_dir, mov_file[-41:-7]+'-CNMFE_new_denoised.isxd')\n",
    "cell_set_denoised\n",
    "\n",
    "cell_set_event = os.path.join(output_dir, mov_file[-41:-7]+'-CNMFE_new_event.isxd')\n",
    "cell_set_event                                      "
   ]
  },
  {
   "cell_type": "code",
   "execution_count": 9,
   "metadata": {},
   "outputs": [
    {
     "name": "stdout",
     "output_type": "stream",
     "text": [
      "Start time 2: 2021-08-11 14:59:54.623112\n"
     ]
    }
   ],
   "source": [
    "start_time_2 = datetime.now()\n",
    "print('Start time 2: {}'.format(start_time_2))"
   ]
  },
  {
   "cell_type": "code",
   "execution_count": 10,
   "metadata": {},
   "outputs": [],
   "source": [
    "# # CNMFe parameter setting\n",
    "# # Define cell size, with the Ca2+ imaging from the inscopix (w/o crop VoF), \n",
    "# # a 4x spatial downsampling video usually has a cell size around 15-20 pixel.\n",
    "# # Belows are some parameters that I tried that can give us nice yield of cells (~200-300 cells)\n",
    "\n",
    "# # Most important is the cell size here, change this one.\n",
    "# cell_size_px = 19       # commonly use: 13, 17, 21\n",
    "\n",
    "# px_set = [13,17,19,21]     # Use for automatic naming\n",
    "# gSig=(cell_size_px-1)/4 # gSig\n",
    "# gSiz=cell_size_px       # gSiz = gSig*4+1 (from CNMFe manual)\n",
    "# # num_processes=1         # Check again if we can do multi-processor by changing the ipython kernel\n",
    "# ## New parameters\n",
    "# processing_mode='parallel_patches'\n",
    "# num_threads=4\n",
    "# patch_size=80\n",
    "# patch_overlap=20\n",
    "# output_unit_type=’df_over_noise’\n",
    "\n",
    "# K=None\n",
    "# rf=[40,40]\n",
    "# stride=20\n",
    "# min_pnr=10              # 10 for PV, 20 for CaMKII\n",
    "# min_corr=0.8            # Try 0.7 corr\n",
    "# event_threshold=0.3     # Used 0.1 before, too noisy"
   ]
  },
  {
   "cell_type": "code",
   "execution_count": 11,
   "metadata": {},
   "outputs": [],
   "source": [
    "## CNMFe new parameters\n",
    "input_movie_files      = mc_files\n",
    "output_cell_set_files  = cell_set\n",
    "cell_diameter          = 9 # Check again what is the good values for us, or ask Alexia for the details if this is actually the gSig and gSiz before?\n",
    "min_corr               = 0.8\n",
    "min_pnr                = 10\n",
    "bg_spatial_subsampling = 2\n",
    "ring_size_factor       = 1.4\n",
    "gaussian_kernel_size   = 0\n",
    "closing_kernel_size    = 0\n",
    "merge_threshold        = 0.7\n",
    "processing_mode        = 'parallel_patches'\n",
    "num_threads            = 8 # Don't go higher than 8 threads\n",
    "patch_size             = 80\n",
    "patch_overlap          = 20\n",
    "output_unit_type       = 'scaled_df' # df_over_noise\n",
    "\n",
    "## For OASIS deconvolution\n",
    "input_raw_cellset_files       = cell_set\n",
    "output_denoised_cellset_files = cell_set_denoised\n",
    "output_spike_eventset_files   = cell_set_event\n",
    "accepted_only                 = False\n",
    "spike_snr_threshold           = 3.75 # this is close to what we had before\n",
    "noise_range                   = (0.25, 0.5)\n",
    "noise_method                  = 'mean'\n",
    "first_order_ar                = True\n",
    "lags                          = 5\n",
    "fudge_factor                  = 0.96\n",
    "deconvolution_method          = 'oasis'"
   ]
  },
  {
   "cell_type": "code",
   "execution_count": null,
   "metadata": {},
   "outputs": [],
   "source": [
    "isx.run_cnmfe(input_movie_files = input_movie_files,\n",
    "              output_cell_set_files = output_cell_set_files,\n",
    "              output_dir = output_dir, \n",
    "              cell_diameter = cell_diameter,\n",
    "              min_corr = min_corr, min_pnr = min_pnr,\n",
    "              bg_spatial_subsampling = bg_spatial_subsampling,\n",
    "              ring_size_factor = ring_size_factor, \n",
    "              gaussian_kernel_size = gaussian_kernel_size,\n",
    "              closing_kernel_size = closing_kernel_size,\n",
    "              merge_threshold = merge_threshold,\n",
    "              processing_mode = processing_mode,\n",
    "              num_threads = num_threads, patch_size = patch_size,\n",
    "              patch_overlap = patch_overlap, \n",
    "              output_unit_type = output_unit_type\n",
    "              )\n",
    "print('Finished CNMFe '+output_cell_set_files)"
   ]
  },
  {
   "cell_type": "code",
   "execution_count": null,
   "metadata": {
    "scrolled": true
   },
   "outputs": [],
   "source": [
    "isx.deconvolve_cellset(input_raw_cellset_files = input_raw_cellset_files,\n",
    "                       output_denoised_cellset_files = output_denoised_cellset_files,\n",
    "                       output_spike_eventset_files= output_spike_eventset_files,\n",
    "                       accepted_only = accepted_only,\n",
    "                       spike_snr_threshold = spike_snr_threshold,\n",
    "                       noise_range = noise_range, \n",
    "                       noise_method = noise_method,\n",
    "                       first_order_ar = first_order_ar,\n",
    "                       lags = lags, fudge_factor = fudge_factor,\n",
    "                       deconvolution_method = deconvolution_method\n",
    "                       )\n",
    "print('Finished deconvolution '+output_spike_eventset_files)"
   ]
  },
  {
   "cell_type": "code",
   "execution_count": null,
   "metadata": {},
   "outputs": [],
   "source": [
    "## Remove unnecessary files to sace storage space\n",
    "os.remove(pp_files[0])\n",
    "print('Removed '+str(pp_files[0]))\n",
    "os.remove(bp_files[0])\n",
    "print('Removed '+str(bp_files[0]))\n",
    "\n",
    "os.chdir(output_dir) # set directory\n",
    "for file in glob.glob(\"*.tiff\"):\n",
    "    os.remove(file)\n",
    "    print('Remove '+str(file))\n",
    "    \n",
    "# for file in glob.glob(\"*.mmap\"):\n",
    "#     os.remove(file)\n",
    "#     print('Remove '+str(file))"
   ]
  },
  {
   "cell_type": "code",
   "execution_count": null,
   "metadata": {},
   "outputs": [],
   "source": [
    "end_time = datetime.now()\n",
    "print('End time: {}'.format(end_time))\n",
    "print('Duration for CNMFe: {}'.format(end_time - start_time_2))\n",
    "print('Duration for whole process: {}'.format(end_time - start_time))"
   ]
  },
  {
   "cell_type": "code",
   "execution_count": null,
   "metadata": {},
   "outputs": [],
   "source": []
  },
  {
   "cell_type": "code",
   "execution_count": null,
   "metadata": {},
   "outputs": [],
   "source": []
  }
 ],
 "metadata": {
  "kernelspec": {
   "display_name": "Python 3",
   "language": "python",
   "name": "python3"
  },
  "language_info": {
   "codemirror_mode": {
    "name": "ipython",
    "version": 3
   },
   "file_extension": ".py",
   "mimetype": "text/x-python",
   "name": "python",
   "nbconvert_exporter": "python",
   "pygments_lexer": "ipython3",
   "version": "3.7.3"
  }
 },
 "nbformat": 4,
 "nbformat_minor": 2
}
